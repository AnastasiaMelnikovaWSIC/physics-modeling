{
  "nbformat": 4,
  "nbformat_minor": 0,
  "metadata": {
    "colab": {
      "provenance": []
    },
    "kernelspec": {
      "name": "python3",
      "display_name": "Python 3"
    },
    "language_info": {
      "name": "python"
    }
  },
  "cells": [
    {
      "cell_type": "markdown",
      "source": [
        "**Проект по физике**\n",
        "---\n",
        "\n",
        "Моделирование движения двух взаимодействующих точечных диполей с заданными электрическими дипольными моментами (ЭДМ), массами и моментами инерции.\n",
        "\n",
        "**Задание для вычислительного эксперимента:**\n",
        "Построить траектории движения диполей для следующих начальных условий:\n",
        "\n",
        "а) ЭДМ параллельны друг другу и направлены\n",
        "под углом 45° к линии диполей;\n",
        "\n",
        "б) ЭДМ антипараллельны друг другу и\n",
        "направлены под углом 45° к линии диполей;"
      ],
      "metadata": {
        "id": "orBKXj7MvGIw"
      }
    },
    {
      "cell_type": "code",
      "execution_count": 10,
      "metadata": {
        "id": "VrTrKjSJWgZ6"
      },
      "outputs": [],
      "source": [
        "# Импорт библиотек\n",
        "import numpy as np\n",
        "import matplotlib.pyplot as plt"
      ]
    },
    {
      "cell_type": "code",
      "source": [
        "# Константы\n",
        "k = 10  # Постоянная, регулирующая силу взаимодействия (можно изменить)\n",
        "\n",
        "# Параметры диполей\n",
        "p1_mag = 1.0  # Величина дипольного момента первого диполя\n",
        "p2_mag = 1.0  # Величина дипольного момента второго диполя\n",
        "m1 = 1.0      # Масса первого диполя\n",
        "m2 = 1.0      # Масса второго диполя\n",
        "I1 = 1.0      # Момент инерции первого диполя (для вращения)\n",
        "I2 = 1.0      # Момент инерции второго диполя (для вращения)\n",
        "\n",
        "# Начальные условия (можно изменять)\n",
        "dt = 0.01    # Шаг по времени\n",
        "t_end = 35   # Конец моделирования\n",
        "r1_0 = np.array([0.0, 0.0])  # Начальное положение первого диполя\n",
        "r2_0 = np.array([1.0, 0.0])   # Начальное положение второго диполя\n",
        "theta1_0 = np.radians(45)   # Начальный угол ориентации первого диполя\n",
        "theta2_0 = np.radians(45)   # Начальный угол ориентации второго диполя\n",
        "#Для антипараллельных диполей (задание б) изменить theta2_0 на np.radians(45 + 180)\n",
        "v1_0 = np.array([0.0, 0.0]) #Начальная скорость первого диполя\n",
        "v2_0 = np.array([0.0, 0.0]) #Начальная скорость второго диполя\n",
        "omega1_0 = 0.0 # Начальная угловая скорость первого диполя\n",
        "omega2_0 = 0.0 # Начальная угловая скорость второго диполя"
      ],
      "metadata": {
        "id": "X6j32h3SuG2U"
      },
      "execution_count": 11,
      "outputs": []
    },
    {
      "cell_type": "markdown",
      "source": [
        "**Зависимость от параметров:**\n",
        "\n",
        "\n",
        "\n",
        "*   k: Увеличение k (постоянная взаимодействия) увеличивает силу взаимодействия, что приводит к более быстрому движению и, возможно, к нестабильности моделирования (если k слишком велико).\n",
        "*   Начальное расстояние: Большее начальное расстояние означает, что взаимодействие будет слабее, и диполи будут двигаться медленнее.\n",
        "\n",
        "*   Начальный угол: Изменение начального угла повлияет на начальное направление движения диполей.\n",
        "\n",
        "\n",
        "\n",
        "\n",
        "\n"
      ],
      "metadata": {
        "id": "zQdl6Hhzxc1T"
      }
    },
    {
      "cell_type": "code",
      "source": [
        "# Функция для расчета силы взаимодействия\n",
        "def dipole_force(r1, r2, theta1, theta2, p1_mag, p2_mag):\n",
        "    r = r2 - r1\n",
        "    r_mag = np.linalg.norm(r)\n",
        "    r_unit = r / r_mag\n",
        "    force_mag = (3 * k * p1_mag * p2_mag / r_mag**4) * (np.cos(theta1) * np.cos(theta2) - 0.5 * np.sin(theta1) * np.sin(theta2)) # Упрощенная формула для 2D\n",
        "    force = force_mag * r_unit\n",
        "    return force\n"
      ],
      "metadata": {
        "id": "xnlDM6P4uRDn"
      },
      "execution_count": 12,
      "outputs": []
    },
    {
      "cell_type": "code",
      "source": [
        "# Моделирование\n",
        "t = np.arange(0, t_end, dt)\n",
        "r1 = np.zeros((len(t), 2))\n",
        "r2 = np.zeros((len(t), 2))\n",
        "theta1 = np.zeros(len(t))\n",
        "theta2 = np.zeros(len(t))\n",
        "v1 = np.zeros((len(t),2))\n",
        "v2 = np.zeros((len(t),2))\n",
        "omega1 = np.zeros(len(t))\n",
        "omega2 = np.zeros(len(t))\n",
        "\n",
        "\n",
        "r1[0] = r1_0\n",
        "r2[0] = r2_0\n",
        "theta1[0] = theta1_0\n",
        "theta2[0] = theta2_0\n",
        "v1[0] = v1_0\n",
        "v2[0] = v2_0\n",
        "omega1[0] = omega1_0\n",
        "omega2[0] = omega2_0\n",
        "\n",
        "for i in range(len(t) - 1):\n",
        "    force = dipole_force(r1[i], r2[i], theta1[i], theta2[i], p1_mag, p2_mag)\n",
        "    a1 = -force / m1  # Ускорение первого диполя\n",
        "    a2 = force / m2   # Ускорение второго диполя\n",
        "    v1[i+1] = v1[i] + a1 * dt\n",
        "    v2[i+1] = v2[i] + a2 * dt\n",
        "    r1[i+1] = r1[i] + v1[i+1] * dt\n",
        "    r2[i+1] = r2[i] + v2[i+1] * dt\n",
        "    #Обновляем углы (упрощенная модель вращения)\n",
        "    theta1[i+1] = theta1[i] + omega1[i] * dt\n",
        "    theta2[i+1] = theta2[i] + omega2[i] * dt"
      ],
      "metadata": {
        "id": "4z6beLsNukAq"
      },
      "execution_count": 13,
      "outputs": []
    },
    {
      "cell_type": "code",
      "source": [
        "# Построение графика\n",
        "plt.figure(figsize=(10, 6))\n",
        "plt.plot(r1[:, 0], r1[:, 1], label='Диполь 1', marker='o', linestyle='-')\n",
        "plt.plot(r2[:, 0], r2[:, 1], label='Диполь 2', marker='x', linestyle='-')\n",
        "plt.xlabel('X')\n",
        "plt.ylabel('Y')\n",
        "plt.title('Траектории движения диполей')\n",
        "plt.legend()\n",
        "plt.grid(True)\n",
        "plt.xlim([-1,2]) # Устанавливаем границы для оси X\n",
        "plt.ylim([-1,1]) # Устанавливаем границы для оси Y\n",
        "plt.gca().set_aspect('equal', adjustable='box') # Делаем оси равномерными\n",
        "plt.show()"
      ],
      "metadata": {
        "colab": {
          "base_uri": "https://localhost:8080/",
          "height": 564
        },
        "id": "zfQBxdW2uqI1",
        "outputId": "636c44ab-d502-4a86-fb3d-0ed996883dbb"
      },
      "execution_count": 14,
      "outputs": [
        {
          "output_type": "display_data",
          "data": {
            "text/plain": [
              "<Figure size 1000x600 with 1 Axes>"
            ],
            "image/png": "[encoded data removed]"
          },
          "metadata": {}
        }
      ]
    },
    {
      "cell_type": "markdown",
      "source": [
        "**а) Параллельные диполи (угол 45 градусов):**\n",
        "\n",
        "*  Ожидаемое поведение: Диполи будут отталкиваться друг от друга. Поскольку их дипольные моменты параллельны, проекция вектора дипольного момента на вектор расстояния между диполями будет положительной, что соответствует отталкиванию.\n",
        "\n",
        "*  Траектория: Диполи будут двигаться в противоположных направлениях вдоль линии, приблизительно перпендикулярной к начальной линии, соединяющей их центры. Они не будут двигаться строго прямолинейно, поскольку сила взаимодействия меняется с расстоянием. Влияние начального угла в 45 градусов будет в том, что движение будет сочетанием радиального движения и движения вдоль начальной линии.\n",
        "\n",
        "**б) Антипараллельные диполи (угол 45 градусов):**\n",
        "\n",
        "*  Ожидаемое поведение: Диполи будут притягиваться друг к другу. Проекция одного дипольного момента на вектор расстояния будет положительной, а другого — отрицательной, что приводит к притяжению.\n",
        "\n",
        "*  Траектория: Диполи будут двигаться навстречу друг другу. Сближение будет происходить по спиралевидной траектории, если мы учтем вращательные движения. Если вращение не учитывается (как в упрощенной модели), траектории будут приближаться по кривой к точке столкновения.\n",
        "\n"
      ],
      "metadata": {
        "id": "0BeGoL_hwHaR"
      }
    }
  ]
}